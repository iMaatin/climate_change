{
 "cells": [
  {
   "cell_type": "code",
   "execution_count": 1,
   "metadata": {},
   "outputs": [],
   "source": [
    "import numpy as np \n",
    "import pandas as pd \n",
    "import os \n",
    "import glob\n",
    "import warnings\n",
    "warnings.filterwarnings('ignore')    ## I don't like pandas setting with copy warnings "
   ]
  },
  {
   "cell_type": "code",
   "execution_count": null,
   "metadata": {},
   "outputs": [],
   "source": [
    "### FYI: GDD has no data for Somalia. I have included it in my list tho\n",
    "\n",
    "emro = ['AFG', 'ARE', 'BHR', 'DJI','EGY','IRN','IRQ','JOR',\n",
    "        'KWT', 'LBN', 'LBR', 'MAR', 'OMN', 'PAK','PSE' , 'QAT','SAU',\n",
    "        'SDN','SOM', 'SYR', 'YEM','TUN']\n",
    "drop_list = ['superregion2','age','urban','edu']\n",
    "\n",
    "def select(col, val,df):\n",
    "        df = df[df[col] == val]\n",
    "        return df\n",
    "\n",
    "def emro_select(df:pd.DataFrame):\n",
    "    d1 = select('age',999,df)\n",
    "    d2 = select('edu',999,d1)\n",
    "    d3 = select('urban',999,d2)\n",
    "    d3 = d3.drop(drop_list,axis=1)\n",
    "    # d4 = d3[d3['iso3'].isin(emro)]\n",
    "\n",
    "    all = select('female',999,d3)\n",
    "    males = select('female',0,d3)\n",
    "    females = select('female',1,d3)\n",
    "        \n",
    "    return all, males, females \n",
    "\n"
   ]
  },
  {
   "cell_type": "code",
   "execution_count": 3,
   "metadata": {},
   "outputs": [],
   "source": [
    "def get_pivots(df):\n",
    "    cf = df.pivot_table(index='year', columns='iso3', values='score').transpose()\n",
    "    return cf \n",
    "\n",
    "\n",
    "# Updated medit_score function that uses gram-based cutoffs from your table.\n",
    "def medit_score(df: pd.DataFrame, food_group: str, scoring_scheme: str) -> pd.DataFrame:\n",
    "    # Define cutoff mapping based on average grams per day.\n",
    "    # The values are chosen as the lower bound of the range for each food group.\n",
    "    cutoffs = {\n",
    "        'meats': 170,       # g/day, for low scoring: 1 if median < 170\n",
    "        'dairy': 200,       # g/day, for low scoring: 1 if median < 200\n",
    "        'fruit': 240,       # g/day, for hi scoring: 1 if median > 240\n",
    "        'sea_food': 28.6,   # g/day, for hi scoring: 1 if median > 28.6\n",
    "        'veg': 480,         # g/day, for hi scoring: 1 if median > 480\n",
    "        'whole_grain': 90,  # g/day, for hi scoring: 1 if median > 90\n",
    "        'legumes': 28.6,    # g/day, for hi scoring: 1 if median > 28.6\n",
    "        'nuts': 84,         # g/day, for hi scoring: 1 if median > 84\n",
    "        'MUFA_div_SFA': 1   # g/day, for hi scoring: 1 if median > 1\n",
    "    }\n",
    "    \n",
    "    if food_group not in cutoffs:\n",
    "        raise ValueError(f\"No gram cutoff defined for food group '{food_group}'\")\n",
    "    cutoff_val = cutoffs[food_group]\n",
    "    \n",
    "    # Score using the gram-based cutoffs.\n",
    "    if scoring_scheme == 'hi':\n",
    "        # For \"hi\", assign 1 if median > cutoff, else 0.\n",
    "        df['score'] = df['median'].apply(lambda x: 1 if x >= cutoff_val else 0)\n",
    "    elif scoring_scheme == 'low':\n",
    "        # For \"low\", assign 1 if median < cutoff, else 0.\n",
    "        df['score'] = df['median'].apply(lambda x: 1 if x < cutoff_val else 0)\n",
    "    else:\n",
    "        raise ValueError(\"scoring_scheme must be either 'hi' or 'low'\")\n",
    "    return df\n",
    "\n",
    "def aio_v2(df: pd.DataFrame, food_group: str, scoring_scheme: str, pivot: bool=True):\n",
    "    # Split the input dataframe into all, males, and females.\n",
    "    all_df, males_df, females_df = emro_select(df)\n",
    "    \n",
    "    # Apply the scoring based on the gram cutoff.\n",
    "    all_df = medit_score(all_df, food_group, scoring_scheme)\n",
    "    males_df = medit_score(males_df, food_group, scoring_scheme)\n",
    "    females_df = medit_score(females_df, food_group, scoring_scheme)\n",
    "    \n",
    "    # Filter to keep only the EMRO countries (assuming 'emro' is a list defined elsewhere).\n",
    "    all_df = all_df[all_df['iso3'].isin(emro)]\n",
    "    males_df = males_df[males_df['iso3'].isin(emro)]\n",
    "    females_df = females_df[females_df['iso3'].isin(emro)]\n",
    "    \n",
    "    if pivot:\n",
    "        all_df = get_pivots(all_df)\n",
    "        males_df = get_pivots(males_df)\n",
    "        females_df = get_pivots(females_df)\n",
    "    \n",
    "    return all_df, males_df, females_df\n",
    "\n",
    "def get_medit_scores(name: str, save: bool, v0_codes: list, scoring_scheme: str):\n",
    "    def sum_csv_files(file_paths, sum_columns):\n",
    "        df_sum = None\n",
    "        non_sum_columns = None\n",
    "        for file in file_paths:\n",
    "            df = pd.read_csv(file)\n",
    "            # Separate the columns to be summed and the remaining columns.\n",
    "            df_sum_cols = df[sum_columns]\n",
    "            df_non_sum_cols = df.drop(columns=sum_columns)\n",
    "            if df_sum is None:\n",
    "                df_sum = df_sum_cols\n",
    "                non_sum_columns = df_non_sum_cols  # Retain these columns from the first file.\n",
    "            else:\n",
    "                df_sum = df_sum.add(df_sum_cols, fill_value=0)\n",
    "        final_df = pd.concat([non_sum_columns, df_sum], axis=1)\n",
    "        return final_df\n",
    "\n",
    "    # Sum the CSV files using the provided file paths.\n",
    "    total = sum_csv_files(v0_codes, sum_columns=['median'])\n",
    "    # Use the provided food group name and scoring scheme.\n",
    "    all_df, males_df, females_df = aio_v2(total, food_group=name, scoring_scheme=scoring_scheme, pivot=True)\n",
    "    \n",
    "    # Create directory for output scores if it doesn't exist.\n",
    "    os.makedirs('scores/medit_cutoff', exist_ok=True)\n",
    "    if save:\n",
    "        all_df.to_csv(f'scores/medit_cutoff/{name}_all.csv')\n",
    "        males_df.to_csv(f'scores/medit_cutoff/{name}_males.csv')\n",
    "        females_df.to_csv(f'scores/medit_cutoff/{name}_females.csv')\n",
    "    return all_df, males_df, females_df\n",
    "\n",
    "# List of tuples with (file paths, food group name, scoring scheme).\n",
    "ryuk = [\n",
    "    ([r'..\\raw_data\\Country-level estimates\\v08_cnty.csv'], 'whole_grain', 'hi'), \n",
    "    ([r'..\\raw_data\\Country-level estimates\\v01_cnty.csv'], 'fruit', 'hi'),\n",
    "    ([r'..\\raw_data\\Country-level estimates\\v02_cnty.csv',\n",
    "      r'..\\raw_data\\Country-level estimates\\v04_cnty.csv'], 'veg', 'hi'),\n",
    "    ([r'..\\raw_data\\Country-level estimates\\v06_cnty.csv'], 'nuts', 'hi'),\n",
    "    ([r'..\\raw_data\\Country-level estimates\\v05_cnty.csv'], 'legumes', 'hi'),\n",
    "    ([r'..\\raw_data\\Country-level estimates\\v57_cnty.csv',\n",
    "      r'..\\raw_data\\Country-level estimates\\v14_cnty.csv',\n",
    "      r'..\\raw_data\\Country-level estimates\\v13_cnty.csv'], 'dairy', 'low'),\n",
    "    ([r'..\\raw_data\\Country-level estimates\\v09_cnty.csv',\n",
    "      r'..\\raw_data\\Country-level estimates\\v10_cnty.csv'], 'meats', 'low'),\n",
    "    ([r'..\\raw_data\\Country-level estimates\\v11_cnty.csv'], 'sea_food', 'hi')\n",
    "]\n",
    "\n",
    "# Loop through each configuration and generate (and optionally save) the scores.\n",
    "for file_list, food_group, scheme in ryuk:\n",
    "    get_medit_scores(name=food_group, save=True, v0_codes=file_list, scoring_scheme=scheme)\n"
   ]
  },
  {
   "cell_type": "code",
   "execution_count": 4,
   "metadata": {},
   "outputs": [],
   "source": [
    "def div_n_stich(path1, path2):\n",
    "    df1 = pd.read_csv(path1)\n",
    "    df2 = pd.read_csv(path2)\n",
    "    val1 = df1.pop('median')\n",
    "    val2 = df2.pop('median')\n",
    "\n",
    "    dived = val1.divide(val2)\n",
    "    df1['median'] = dived\n",
    "    return df1\n",
    "\n",
    "def get_medit_scores_fat (name:str, save:bool, p1,p2, type:str):\n",
    "    total = div_n_stich(p1,p2)\n",
    "    all, males, females = aio_v2(total,food_group=name,scoring_scheme=type,pivot=True)\n",
    "\n",
    "    if save:\n",
    "        all.to_csv(f'scores\\medit_cutoff\\{name}_all.csv')\n",
    "        males.to_csv(f'scores\\medit_cutoff\\{name}_males.csv')\n",
    "        females.to_csv(f'scores\\medit_cutoff\\{name}_females.csv')\n",
    "    return all, males, females\n",
    "\n",
    "_,_,_ = get_medit_scores_fat(name='MUFA_div_SFA', save=True,\n",
    "                             p1=r'..\\raw_data\\Country-level estimates\\v28_cnty.csv',\n",
    "                             p2=r'..\\raw_data\\Country-level estimates\\v27_cnty.csv', type='hi')"
   ]
  },
  {
   "cell_type": "code",
   "execution_count": 5,
   "metadata": {},
   "outputs": [
    {
     "data": {
      "application/vnd.microsoft.datawrangler.viewer.v0+json": {
       "columns": [
        {
         "name": "index",
         "rawType": "int64",
         "type": "integer"
        },
        {
         "name": "median",
         "rawType": "float64",
         "type": "float"
        },
        {
         "name": "iso3",
         "rawType": "object",
         "type": "string"
        },
        {
         "name": "year",
         "rawType": "int64",
         "type": "integer"
        }
       ],
       "conversionMethod": "pd.DataFrame",
       "ref": "6d785ad5-78f8-4561-80cb-49fa0fb15085",
       "rows": [
        [
         "827",
         "0.6456968227809702",
         "AFG",
         "1990"
        ],
        [
         "1655",
         "0.6512378961167706",
         "AFG",
         "1995"
        ],
        [
         "2483",
         "0.6649357424196252",
         "AFG",
         "2000"
        ],
        [
         "3311",
         "0.6617923276378841",
         "AFG",
         "2005"
        ],
        [
         "4139",
         "0.6606468254058337",
         "AFG",
         "2010"
        ],
        [
         "4967",
         "0.6720158946690583",
         "AFG",
         "2015"
        ],
        [
         "5795",
         "0.6694783677982035",
         "AFG",
         "2018"
        ],
        [
         "18215",
         "1.0423198393838244",
         "ARE",
         "1990"
        ],
        [
         "19043",
         "1.1102482927458344",
         "ARE",
         "1995"
        ],
        [
         "19871",
         "1.0539744121524532",
         "ARE",
         "2000"
        ],
        [
         "20699",
         "1.1329315051864237",
         "ARE",
         "2005"
        ],
        [
         "21527",
         "1.1670229777730692",
         "ARE",
         "2010"
        ],
        [
         "22355",
         "1.188668487717868",
         "ARE",
         "2015"
        ],
        [
         "23183",
         "1.1866493173160895",
         "ARE",
         "2018"
        ],
        [
         "93563",
         "1.277347861570567",
         "BHR",
         "1990"
        ],
        [
         "94391",
         "1.2872700081850226",
         "BHR",
         "1995"
        ],
        [
         "95219",
         "1.3024390540684896",
         "BHR",
         "2000"
        ],
        [
         "96047",
         "1.30206378833817",
         "BHR",
         "2005"
        ],
        [
         "96875",
         "1.3221828563649338",
         "BHR",
         "2010"
        ],
        [
         "97703",
         "1.3258231618826646",
         "BHR",
         "2015"
        ],
        [
         "98531",
         "1.3309319595293696",
         "BHR",
         "2018"
        ],
        [
         "255851",
         "1.136858810894328",
         "DJI",
         "1990"
        ],
        [
         "256679",
         "1.1490494427049318",
         "DJI",
         "1995"
        ],
        [
         "257507",
         "1.1732305436005888",
         "DJI",
         "2000"
        ],
        [
         "258335",
         "1.122283950190395",
         "DJI",
         "2005"
        ],
        [
         "259163",
         "1.0509962865860438",
         "DJI",
         "2010"
        ],
        [
         "259991",
         "1.0822019275970245",
         "DJI",
         "2015"
        ],
        [
         "260819",
         "1.0845103502883613",
         "DJI",
         "2018"
        ],
        [
         "290627",
         "2.41204757689767",
         "EGY",
         "1990"
        ],
        [
         "291455",
         "2.34150847029733",
         "EGY",
         "1995"
        ],
        [
         "292283",
         "2.393901589429809",
         "EGY",
         "2000"
        ],
        [
         "293111",
         "2.2881430794184308",
         "EGY",
         "2005"
        ],
        [
         "293939",
         "2.4437001725550656",
         "EGY",
         "2010"
        ],
        [
         "294767",
         "2.448383416689189",
         "EGY",
         "2015"
        ],
        [
         "295595",
         "2.4497207927775557",
         "EGY",
         "2018"
        ],
        [
         "452915",
         "1.1988203805162463",
         "IRN",
         "1990"
        ],
        [
         "453743",
         "1.1318732525030928",
         "IRN",
         "1995"
        ],
        [
         "454571",
         "1.2081474360538431",
         "IRN",
         "2000"
        ],
        [
         "455399",
         "1.0686337878868477",
         "IRN",
         "2005"
        ],
        [
         "456227",
         "0.9390691016862811",
         "IRN",
         "2010"
        ],
        [
         "457055",
         "0.9455746879505077",
         "IRN",
         "2015"
        ],
        [
         "457883",
         "0.9478267074084893",
         "IRN",
         "2018"
        ],
        [
         "458711",
         "1.3708404656095594",
         "IRQ",
         "1990"
        ],
        [
         "459539",
         "1.3663907089902119",
         "IRQ",
         "1995"
        ],
        [
         "460367",
         "1.3916200215247498",
         "IRQ",
         "2000"
        ],
        [
         "461195",
         "1.4292562240897322",
         "IRQ",
         "2005"
        ],
        [
         "462023",
         "1.6467490400997467",
         "IRQ",
         "2010"
        ],
        [
         "462851",
         "1.66693844834974",
         "IRQ",
         "2015"
        ],
        [
         "463679",
         "1.6652362324534133",
         "IRQ",
         "2018"
        ],
        [
         "487691",
         "0.7742219675251443",
         "JOR",
         "1990"
        ]
       ],
       "shape": {
        "columns": 3,
        "rows": 147
       }
      },
      "text/html": [
       "<div>\n",
       "<style scoped>\n",
       "    .dataframe tbody tr th:only-of-type {\n",
       "        vertical-align: middle;\n",
       "    }\n",
       "\n",
       "    .dataframe tbody tr th {\n",
       "        vertical-align: top;\n",
       "    }\n",
       "\n",
       "    .dataframe thead th {\n",
       "        text-align: right;\n",
       "    }\n",
       "</style>\n",
       "<table border=\"1\" class=\"dataframe\">\n",
       "  <thead>\n",
       "    <tr style=\"text-align: right;\">\n",
       "      <th></th>\n",
       "      <th>median</th>\n",
       "      <th>iso3</th>\n",
       "      <th>year</th>\n",
       "    </tr>\n",
       "  </thead>\n",
       "  <tbody>\n",
       "    <tr>\n",
       "      <th>827</th>\n",
       "      <td>0.645697</td>\n",
       "      <td>AFG</td>\n",
       "      <td>1990</td>\n",
       "    </tr>\n",
       "    <tr>\n",
       "      <th>1655</th>\n",
       "      <td>0.651238</td>\n",
       "      <td>AFG</td>\n",
       "      <td>1995</td>\n",
       "    </tr>\n",
       "    <tr>\n",
       "      <th>2483</th>\n",
       "      <td>0.664936</td>\n",
       "      <td>AFG</td>\n",
       "      <td>2000</td>\n",
       "    </tr>\n",
       "    <tr>\n",
       "      <th>3311</th>\n",
       "      <td>0.661792</td>\n",
       "      <td>AFG</td>\n",
       "      <td>2005</td>\n",
       "    </tr>\n",
       "    <tr>\n",
       "      <th>4139</th>\n",
       "      <td>0.660647</td>\n",
       "      <td>AFG</td>\n",
       "      <td>2010</td>\n",
       "    </tr>\n",
       "    <tr>\n",
       "      <th>...</th>\n",
       "      <td>...</td>\n",
       "      <td>...</td>\n",
       "      <td>...</td>\n",
       "    </tr>\n",
       "    <tr>\n",
       "      <th>1051559</th>\n",
       "      <td>1.491249</td>\n",
       "      <td>YEM</td>\n",
       "      <td>2000</td>\n",
       "    </tr>\n",
       "    <tr>\n",
       "      <th>1052387</th>\n",
       "      <td>1.604865</td>\n",
       "      <td>YEM</td>\n",
       "      <td>2005</td>\n",
       "    </tr>\n",
       "    <tr>\n",
       "      <th>1053215</th>\n",
       "      <td>1.582730</td>\n",
       "      <td>YEM</td>\n",
       "      <td>2010</td>\n",
       "    </tr>\n",
       "    <tr>\n",
       "      <th>1054043</th>\n",
       "      <td>1.589369</td>\n",
       "      <td>YEM</td>\n",
       "      <td>2015</td>\n",
       "    </tr>\n",
       "    <tr>\n",
       "      <th>1054871</th>\n",
       "      <td>1.588425</td>\n",
       "      <td>YEM</td>\n",
       "      <td>2018</td>\n",
       "    </tr>\n",
       "  </tbody>\n",
       "</table>\n",
       "<p>147 rows × 3 columns</p>\n",
       "</div>"
      ],
      "text/plain": [
       "           median iso3  year\n",
       "827      0.645697  AFG  1990\n",
       "1655     0.651238  AFG  1995\n",
       "2483     0.664936  AFG  2000\n",
       "3311     0.661792  AFG  2005\n",
       "4139     0.660647  AFG  2010\n",
       "...           ...  ...   ...\n",
       "1051559  1.491249  YEM  2000\n",
       "1052387  1.604865  YEM  2005\n",
       "1053215  1.582730  YEM  2010\n",
       "1054043  1.589369  YEM  2015\n",
       "1054871  1.588425  YEM  2018\n",
       "\n",
       "[147 rows x 3 columns]"
      ]
     },
     "execution_count": 5,
     "metadata": {},
     "output_type": "execute_result"
    }
   ],
   "source": [
    "### just to make sure the above code is working fine, i will calculate all_genders file manually\n",
    "\n",
    "mufa = pd.read_csv(r'..\\raw_data\\Country-level estimates\\v28_cnty.csv')\n",
    "sfa = pd.read_csv(r'..\\raw_data\\Country-level estimates\\v27_cnty.csv')\n",
    "\n",
    "mufa_all, mufa_m, mufa_f = emro_select(mufa)\n",
    "sfa_all, sfa_m, sfa_m = emro_select(sfa)\n",
    "\n",
    "pre_all = mufa_all['median'].divide(sfa_all['median'])\n",
    "allz = pd.concat([pre_all,mufa_all[['iso3','year']]],axis=1)\n",
    "allz = allz[allz['iso3'].isin(emro)]\n",
    "allz\n",
    "# # all_score = medit_score(allz,'hi')\n",
    "# all_score = pd.DataFrame({'score': (allz['median'] > 1).astype(int)})\n",
    "# all_score_piv = get_pivots(all_score)\n",
    "# all_score_piv"
   ]
  },
  {
   "cell_type": "markdown",
   "metadata": {},
   "source": [
    "it's exactly the same as the mufa_div_sfa_all.csv"
   ]
  },
  {
   "cell_type": "code",
   "execution_count": 6,
   "metadata": {},
   "outputs": [],
   "source": [
    "## a function to sum the scores for countries \n",
    "\n",
    "def calc_total(path: str, suff: str):\n",
    "    all_glob = glob.glob(f'{path}/*_{suff}.csv')\n",
    "    \n",
    "    cumulative_df = None\n",
    "\n",
    "    for i in all_glob:\n",
    "        temp = pd.read_csv(i)\n",
    "        \n",
    "        if cumulative_df is None:\n",
    "            cumulative_df = temp\n",
    "        else:\n",
    "            cumulative_df.iloc[:, 1:] += temp.iloc[:, 1:]\n",
    "    \n",
    "    return cumulative_df\n",
    "\n",
    "folder = 'scores/medit_cutoff'  \n",
    "for i in ['all', 'males', 'females']:\n",
    "    temp_df = calc_total(folder, i)\n",
    "    temp_df.to_csv(f'{folder}/total_{i}.csv', index=False)"
   ]
  },
  {
   "cell_type": "code",
   "execution_count": null,
   "metadata": {},
   "outputs": [],
   "source": []
  },
  {
   "cell_type": "markdown",
   "metadata": {},
   "source": [
    "So in **medit_emro** we have scores based on how countries scored in the EMRO region\n",
    "\n",
    "and in **medit_global** we have thier scores based on how they scored across the world"
   ]
  },
  {
   "cell_type": "code",
   "execution_count": 23,
   "metadata": {},
   "outputs": [],
   "source": [
    "drop_list = ['age','urban','edu']\n",
    "keep = [\n",
    "    'female','year','median','score'\n",
    "]\n",
    "def aio_v3(df: pd.DataFrame, food_group: str, scoring_scheme: str, pivot: bool=True):\n",
    "    # Split the input dataframe into all, males, and females.\n",
    "    \n",
    "    all_df, males_df, females_df = emro_select(df)\n",
    "    \n",
    "    # Apply the scoring based on the gram cutoff.\n",
    "    all_df = medit_score(all_df, food_group, scoring_scheme)\n",
    "    males_df = medit_score(males_df, food_group, scoring_scheme)\n",
    "    females_df = medit_score(females_df, food_group, scoring_scheme)\n",
    "    \n",
    "    # # Filter to keep only the EMRO countries (assuming 'emro' is a list defined elsewhere).\n",
    "    all_df = all_df[keep]\n",
    "    males_df = males_df[keep]\n",
    "    females_df = females_df[keep]\n",
    "    \n",
    "    if pivot:\n",
    "        all_df = get_pivots(all_df)\n",
    "        males_df = get_pivots(males_df)\n",
    "        females_df = get_pivots(females_df)\n",
    "    \n",
    "    return all_df, males_df, females_df\n",
    "\n",
    "def get_medit_scores(name: str, save: bool, v0_codes: list, scoring_scheme: str):\n",
    "    def sum_csv_files(file_paths, sum_columns):\n",
    "        df_sum = None\n",
    "        non_sum_columns = None\n",
    "        for file in file_paths:\n",
    "            df = pd.read_csv(file)\n",
    "            # Separate the columns to be summed and the remaining columns.\n",
    "            df_sum_cols = df[sum_columns]\n",
    "            df_non_sum_cols = df.drop(columns=sum_columns)\n",
    "            if df_sum is None:\n",
    "                df_sum = df_sum_cols\n",
    "                non_sum_columns = df_non_sum_cols  # Retain these columns from the first file.\n",
    "            else:\n",
    "                df_sum = df_sum.add(df_sum_cols, fill_value=0)\n",
    "        final_df = pd.concat([non_sum_columns, df_sum], axis=1)\n",
    "        return final_df\n",
    "\n",
    "    # Sum the CSV files using the provided file paths.\n",
    "    total = sum_csv_files(v0_codes, sum_columns=['median'])\n",
    "    # Use the provided food group name and scoring scheme.\n",
    "    all_df, males_df, females_df = aio_v3(total, food_group=name, scoring_scheme=scoring_scheme, pivot=False)\n",
    "    \n",
    "    # Create directory for output scores if it doesn't exist.\n",
    "    os.makedirs('scores/medit_cutoff/global', exist_ok=True)\n",
    "    if save:\n",
    "        all_df.to_csv(f'scores/medit_cutoff/global/{name}_all.csv')\n",
    "        males_df.to_csv(f'scores/medit_cutoff/global/{name}_males.csv')\n",
    "        females_df.to_csv(f'scores/medit_cutoff/global/{name}_females.csv')\n",
    "    return all_df, males_df, females_df\n",
    "\n",
    "# List of tuples with (file paths, food group name, scoring scheme).\n",
    "ryuk = [\n",
    "    ([r'..\\raw_data\\Global estimates\\v08_global.csv'], 'whole_grain', 'hi'),\n",
    "    ([r'..\\raw_data\\Global estimates\\v01_global.csv'], 'fruit', 'hi'),\n",
    "    ([r'..\\raw_data\\Global estimates\\v02_global.csv',\n",
    "      r'..\\raw_data\\Global estimates\\v04_global.csv'], 'veg', 'hi'),\n",
    "    ([r'..\\raw_data\\Global estimates\\v06_global.csv'], 'nuts', 'hi'),\n",
    "    ([r'..\\raw_data\\Global estimates\\v05_global.csv'], 'legumes', 'hi'),\n",
    "    ([r'..\\raw_data\\Global estimates\\v57_global.csv',\n",
    "      r'..\\raw_data\\Global estimates\\v14_global.csv',\n",
    "      r'..\\raw_data\\Global estimates\\v13_global.csv'], 'dairy', 'low'),\n",
    "    ([r'..\\raw_data\\Global estimates\\v09_global.csv',\n",
    "      r'..\\raw_data\\Global estimates\\v10_global.csv'], 'meats', 'low'),\n",
    "    ([r'..\\raw_data\\Global estimates\\v11_global.csv'], 'sea_food', 'hi')\n",
    "]\n",
    "\n",
    "# Loop through each configuration and generate (and optionally save) the scores.\n",
    "for file_list, food_group, scheme in ryuk:\n",
    "    get_medit_scores(name=food_group, save=True, v0_codes=file_list, scoring_scheme=scheme)\n"
   ]
  },
  {
   "cell_type": "code",
   "execution_count": 24,
   "metadata": {},
   "outputs": [],
   "source": [
    "def div_n_stich(path1, path2):\n",
    "    df1 = pd.read_csv(path1)\n",
    "    df2 = pd.read_csv(path2)\n",
    "    val1 = df1.pop('median')\n",
    "    val2 = df2.pop('median')\n",
    "\n",
    "    dived = val1.divide(val2)\n",
    "    df1['median'] = dived\n",
    "    return df1\n",
    "\n",
    "def get_medit_scores_fat (name:str, save:bool, p1,p2, type:str):\n",
    "    total = div_n_stich(p1,p2)\n",
    "    all, males, females = aio_v3(total,food_group=name,scoring_scheme=type,pivot=False)\n",
    "\n",
    "    if save:\n",
    "        all.to_csv(f'scores\\medit_cutoff\\global\\{name}_all.csv', index=False)\n",
    "        males.to_csv(f'scores\\medit_cutoff\\global\\{name}_males.csv',index=False)\n",
    "        females.to_csv(f'scores\\medit_cutoff\\global\\{name}_females.csv', index=False)\n",
    "    return all, males, females\n",
    "\n",
    "_,_,_ = get_medit_scores_fat(name='MUFA_div_SFA', save=True,\n",
    "                             p1=r'..\\raw_data\\Global estimates\\v28_global.csv',\n",
    "                             p2=r'..\\raw_data\\Global estimates\\v27_global.csv', type='hi')\n",
    "\n",
    "## a function to sum the scores for countries \n",
    "\n",
    "def calc_total(path: str, suff: str):\n",
    "    all_glob = glob.glob(f'{path}/*_{suff}.csv')\n",
    "    \n",
    "    cumulative_df = None\n",
    "\n",
    "    for i in all_glob:\n",
    "        temp = pd.read_csv(i)\n",
    "        \n",
    "        if cumulative_df is None:\n",
    "            cumulative_df = temp\n",
    "        else:\n",
    "            cumulative_df.iloc[:, 1:] += temp.iloc[:, 1:]\n",
    "    \n",
    "    return cumulative_df\n",
    "\n",
    "folder = 'scores/medit_cutoff/global'  \n",
    "for i in ['all', 'males', 'females']:\n",
    "    temp_df = calc_total(folder, i)\n",
    "    temp_df.to_csv(f'{folder}/total_{i}.csv', index=False)"
   ]
  },
  {
   "cell_type": "code",
   "execution_count": null,
   "metadata": {},
   "outputs": [],
   "source": []
  }
 ],
 "metadata": {
  "kernelspec": {
   "display_name": "Python 3",
   "language": "python",
   "name": "python3"
  },
  "language_info": {
   "codemirror_mode": {
    "name": "ipython",
    "version": 3
   },
   "file_extension": ".py",
   "mimetype": "text/x-python",
   "name": "python",
   "nbconvert_exporter": "python",
   "pygments_lexer": "ipython3",
   "version": "3.10.11"
  }
 },
 "nbformat": 4,
 "nbformat_minor": 2
}
